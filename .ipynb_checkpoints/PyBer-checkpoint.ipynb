{
 "cells": [
  {
   "cell_type": "code",
   "execution_count": 1,
   "metadata": {},
   "outputs": [],
   "source": [
    "#matplotlib inline magic command\n",
    "%matplotlib inline\n",
    "\n",
    "#import dependencies\n",
    "import matplotlib.pyplot as plt\n",
    "import pandas as pd"
   ]
  },
  {
   "cell_type": "code",
   "execution_count": 2,
   "metadata": {},
   "outputs": [],
   "source": [
    "#files to load\n",
    "city_data_to_load = 'Resources/city_data.csv'\n",
    "ride_data_to_load =  'Resources/ride_data.csv'"
   ]
  },
  {
   "cell_type": "code",
   "execution_count": 3,
   "metadata": {},
   "outputs": [],
   "source": [
    "#read csv files and store it into a pandas dataframe\n",
    "city_data_df = pd.read_csv(city_data_to_load)\n",
    "ride_data_df = pd.read_csv(ride_data_to_load)\n",
    "\n",
    "#city_data_df.head()"
   ]
  },
  {
   "cell_type": "markdown",
   "metadata": {},
   "source": [
    "###### inspecting city_data_df"
   ]
  },
  {
   "cell_type": "code",
   "execution_count": 4,
   "metadata": {},
   "outputs": [
    {
     "data": {
      "text/plain": [
       "city            120\n",
       "driver_count    120\n",
       "type            120\n",
       "dtype: int64"
      ]
     },
     "execution_count": 4,
     "metadata": {},
     "output_type": "execute_result"
    }
   ],
   "source": [
    "#checking if any missing rows\n",
    "city_data_df.count()"
   ]
  },
  {
   "cell_type": "code",
   "execution_count": 5,
   "metadata": {},
   "outputs": [
    {
     "data": {
      "text/plain": [
       "city            0\n",
       "driver_count    0\n",
       "type            0\n",
       "dtype: int64"
      ]
     },
     "execution_count": 5,
     "metadata": {},
     "output_type": "execute_result"
    }
   ],
   "source": [
    "#checking for any null values\n",
    "city_data_df.isnull().sum()"
   ]
  },
  {
   "cell_type": "code",
   "execution_count": 6,
   "metadata": {},
   "outputs": [
    {
     "data": {
      "text/plain": [
       "city            object\n",
       "driver_count     int64\n",
       "type            object\n",
       "dtype: object"
      ]
     },
     "execution_count": 6,
     "metadata": {},
     "output_type": "execute_result"
    }
   ],
   "source": [
    "#checking for the data type in each column\n",
    "city_data_df.dtypes"
   ]
  },
  {
   "cell_type": "code",
   "execution_count": 7,
   "metadata": {},
   "outputs": [
    {
     "data": {
      "text/plain": [
       "array(['Urban', 'Suburban', 'Rural'], dtype=object)"
      ]
     },
     "execution_count": 7,
     "metadata": {},
     "output_type": "execute_result"
    }
   ],
   "source": [
    "#checking for how many types of data points on the city dataset\n",
    "city_data_df['type'].unique()"
   ]
  },
  {
   "cell_type": "code",
   "execution_count": 8,
   "metadata": {},
   "outputs": [
    {
     "data": {
      "text/plain": [
       "66"
      ]
     },
     "execution_count": 8,
     "metadata": {},
     "output_type": "execute_result"
    }
   ],
   "source": [
    "#get the number of data points from urban areas\n",
    "sum(city_data_df['type'] == 'Urban')"
   ]
  },
  {
   "cell_type": "code",
   "execution_count": 9,
   "metadata": {},
   "outputs": [
    {
     "data": {
      "text/plain": [
       "36"
      ]
     },
     "execution_count": 9,
     "metadata": {},
     "output_type": "execute_result"
    }
   ],
   "source": [
    "#get the number of data points from the suburban areas\n",
    "sum(city_data_df['type']== 'Suburban')"
   ]
  },
  {
   "cell_type": "code",
   "execution_count": 10,
   "metadata": {},
   "outputs": [
    {
     "data": {
      "text/plain": [
       "18"
      ]
     },
     "execution_count": 10,
     "metadata": {},
     "output_type": "execute_result"
    }
   ],
   "source": [
    "#get the number of data points from the rural areas\n",
    "sum(city_data_df['type']== 'Rural')"
   ]
  },
  {
   "cell_type": "markdown",
   "metadata": {},
   "source": [
    "###### inspecting ride_data_df"
   ]
  },
  {
   "cell_type": "code",
   "execution_count": 11,
   "metadata": {},
   "outputs": [
    {
     "data": {
      "text/plain": [
       "city       2375\n",
       "date       2375\n",
       "fare       2375\n",
       "ride_id    2375\n",
       "dtype: int64"
      ]
     },
     "execution_count": 11,
     "metadata": {},
     "output_type": "execute_result"
    }
   ],
   "source": [
    "#checking for any missing rows\n",
    "ride_data_df.count()"
   ]
  },
  {
   "cell_type": "code",
   "execution_count": 12,
   "metadata": {},
   "outputs": [
    {
     "data": {
      "text/plain": [
       "city       0\n",
       "date       0\n",
       "fare       0\n",
       "ride_id    0\n",
       "dtype: int64"
      ]
     },
     "execution_count": 12,
     "metadata": {},
     "output_type": "execute_result"
    }
   ],
   "source": [
    "#checking for any null values\n",
    "ride_data_df.isnull().sum()"
   ]
  },
  {
   "cell_type": "code",
   "execution_count": 13,
   "metadata": {},
   "outputs": [
    {
     "data": {
      "text/plain": [
       "city        object\n",
       "date        object\n",
       "fare       float64\n",
       "ride_id      int64\n",
       "dtype: object"
      ]
     },
     "execution_count": 13,
     "metadata": {},
     "output_type": "execute_result"
    }
   ],
   "source": [
    "#checking for different data types per column\n",
    "ride_data_df.dtypes"
   ]
  },
  {
   "cell_type": "markdown",
   "metadata": {},
   "source": [
    "###### merging ride_data and city_data dataframes"
   ]
  },
  {
   "cell_type": "code",
   "execution_count": 14,
   "metadata": {},
   "outputs": [],
   "source": [
    "#combine the data into a single dataset\n",
    "pyber_data_df = pd.merge(ride_data_df, city_data_df, how = 'left', on = ['city', 'city'])\n",
    "\n",
    "\n",
    "#pyber_data_df.head()"
   ]
  },
  {
   "cell_type": "markdown",
   "metadata": {},
   "source": [
    "###### creating a bubble chart to showcase the average fare versus the total number of rides based on the average number of drivers for each city type (urban, suburban, rural)"
   ]
  },
  {
   "cell_type": "code",
   "execution_count": 15,
   "metadata": {},
   "outputs": [],
   "source": [
    "#create a new dataframe for each city type\n",
    "\n",
    "#urban\n",
    "urban_cities_df = pyber_data_df[pyber_data_df['type'] == 'Urban']\n",
    "\n",
    "#suburban\n",
    "suburban_cities_df = pyber_data_df[pyber_data_df['type'] == 'Suburban']\n",
    "\n",
    "#rural\n",
    "rural_cities_df = pyber_data_df[pyber_data_df['type'] == 'Rural']"
   ]
  },
  {
   "cell_type": "code",
   "execution_count": 16,
   "metadata": {},
   "outputs": [],
   "source": [
    "#get the number of rides for urban cities\n",
    "urban_ride_count = urban_cities_df.groupby(['city']).count()['ride_id']\n",
    "\n",
    "#get the number of rides for suburban cities\n",
    "suburban_ride_count = suburban_cities_df.groupby(['city']).count()['ride_id']\n",
    "\n",
    "#get the number of rides for the rural cities\n",
    "rural_ride_count = rural_cities_df.groupby(['city']).count()['ride_id']"
   ]
  },
  {
   "cell_type": "code",
   "execution_count": 17,
   "metadata": {},
   "outputs": [],
   "source": [
    "#get the average fare for each city in the urban cities\n",
    "urban_avg_fare = urban_cities_df.groupby(['city']).mean()['fare']\n",
    "\n",
    "#get the average fare for each city in the suburban cities\n",
    "suburban_avg_fare = suburban_cities_df.groupby(['city']).mean()['fare']\n",
    "\n",
    "#get the averahe fare for eacj city in the rural cities\n",
    "rural_avg_fare = rural_cities_df.groupby(['city']).mean()['fare']\n"
   ]
  },
  {
   "cell_type": "code",
   "execution_count": 18,
   "metadata": {},
   "outputs": [],
   "source": [
    "#get the average number of drivers per city in the urban cities\n",
    "urban_driver_count = urban_cities_df.groupby(['city']).mean()['driver_count']\n",
    "\n",
    "#get the average number of drivers per city in the suburban cities\n",
    "suburban_driver_count = suburban_cities_df.groupby(['city']).mean()['driver_count']\n",
    "\n",
    "#get the average number of drivers per city in the rural cities\n",
    "rural_driver_count = rural_cities_df.groupby(['city']).mean()['driver_count']"
   ]
  },
  {
   "cell_type": "code",
   "execution_count": 19,
   "metadata": {},
   "outputs": [
    {
     "data": {
      "image/png": "[encoded data removed]",
      "text/plain": [
       "<Figure size 432x288 with 1 Axes>"
      ]
     },
     "metadata": {
      "needs_background": "light"
     },
     "output_type": "display_data"
    }
   ],
   "source": [
    "#creating the scatter plot for the urban cities\n",
    "plt.scatter(x = urban_ride_count,\n",
    "            y = urban_avg_fare,\n",
    "            s = 10* urban_driver_count,\n",
    "            c = 'coral',\n",
    "            edgecolor = 'black',\n",
    "            linewidth = 1,\n",
    "            alpha = 0.8,\n",
    "            label = 'urban')\n",
    "\n",
    "\n",
    "\n",
    "#creating the scatter plot for the suburban cities\n",
    "plt.scatter(x = suburban_ride_count,\n",
    "            y = suburban_avg_fare,\n",
    "            s = 10* suburban_driver_count,\n",
    "            c = 'skyblue',\n",
    "            edgecolor = 'black',\n",
    "            linewidth = 1,\n",
    "            alpha = 0.8,\n",
    "            label = 'suburban')\n",
    "\n",
    "\n",
    "\n",
    "\n",
    "#creating the scatter plot for the rural cities\n",
    "plt.scatter(x = rural_ride_count,\n",
    "            y = rural_avg_fare,\n",
    "            s = 10* rural_driver_count,\n",
    "            c = 'gold',\n",
    "            edgecolor = 'black',\n",
    "            linewidth = 1,\n",
    "            alpha = 0.8,\n",
    "            label = 'rural')\n",
    "\n",
    "#Adds appropriate titles for all the graphs\n",
    "plt.title('PyBer Ride-Sharing Data (2019)', fontsize = 20)\n",
    "plt.ylabel('Average Fare ($)', fontsize = 12)\n",
    "plt.xlabel('Total Number of Rides (Per City)', fontsize = 12)\n",
    "plt.grid(True)\n",
    "\n",
    "\n",
    "#Adds the legend/label\n",
    "lgnd = plt.legend(fontsize = 12, mode = 'Expanded', \n",
    "                  scatterpoints = 1, loc = 'best', title = 'City Types')\n",
    "\n",
    "\n",
    "#Use legendHandles[] to set the font size of the marker\n",
    "lgnd.legendHandles[0]._sizes = [75]\n",
    "lgnd.legendHandles[1]._sizes = [75]\n",
    "lgnd.legendHandles[2]._sizes = [75]\n",
    "lgnd.get_title().set_fontsize(12)\n",
    "\n",
    "#incorporates a text box about the circle size beside the chart where '42 and 35' are x'y coordinates\n",
    "plt.text(42, 35, 'Note: Circle size correlates with driver count per city', fontsize = 12)\n",
    "\n",
    "#save the figure\n",
    "plt.savefig('Analysis/Fig1.png')\n",
    "\n",
    "#combine and show the plot\n",
    "plt.show()"
   ]
  },
  {
   "cell_type": "markdown",
   "metadata": {},
   "source": [
    "###### pandas summary statistics for number of rides by city type"
   ]
  },
  {
   "cell_type": "code",
   "execution_count": 20,
   "metadata": {},
   "outputs": [],
   "source": [
    "#get summary statistics for the urban cities\n",
    "#urban_cities_df.describe()\n",
    "\n",
    "#get summary statistics for the suburban cities\n",
    "#suburban_cities_df.describe()\n",
    "\n",
    "#get summary statistics for the rural cities\n",
    "#rural_cities_df.describe()\n",
    "\n",
    "#get the summary statistics for the suburban ride count\n",
    "#rural_ride_count.describe()"
   ]
  },
  {
   "cell_type": "code",
   "execution_count": 21,
   "metadata": {},
   "outputs": [
    {
     "data": {
      "text/plain": [
       "(24.62, 17.36, 6.94)"
      ]
     },
     "execution_count": 21,
     "metadata": {},
     "output_type": "execute_result"
    }
   ],
   "source": [
    "#calculate the mean of the ride count for each city type\n",
    "round(urban_ride_count.mean(), 2), round(suburban_ride_count.mean(), 2), round(rural_ride_count.mean(), 2)"
   ]
  },
  {
   "cell_type": "code",
   "execution_count": 22,
   "metadata": {},
   "outputs": [
    {
     "data": {
      "text/plain": [
       "24.0"
      ]
     },
     "execution_count": 22,
     "metadata": {},
     "output_type": "execute_result"
    }
   ],
   "source": [
    "#calculate the mean of the ride count for the urban cities\n",
    "round(urban_ride_count.median(), 2)"
   ]
  },
  {
   "cell_type": "code",
   "execution_count": 23,
   "metadata": {},
   "outputs": [
    {
     "data": {
      "text/plain": [
       "0    22\n",
       "1    25\n",
       "dtype: int64"
      ]
     },
     "execution_count": 23,
     "metadata": {},
     "output_type": "execute_result"
    }
   ],
   "source": [
    "#calculate the mode of the ride count for urban cities\n",
    "round(urban_ride_count.mode(), 2)"
   ]
  },
  {
   "cell_type": "markdown",
   "metadata": {},
   "source": [
    "###### numpy summary statistics (numpy mean/median/mode) + (scipy mode) functions"
   ]
  },
  {
   "cell_type": "code",
   "execution_count": 24,
   "metadata": {},
   "outputs": [],
   "source": [
    "#an optional approach to calculating mean/median/mode of a dataframe and series for when working with\n",
    "#VS Code or other python interpreter\n",
    "\n",
    "#import numpy and the stats module from SciPy\n",
    "import numpy as np\n",
    "import scipy.stats as sts"
   ]
  },
  {
   "cell_type": "code",
   "execution_count": 25,
   "metadata": {},
   "outputs": [
    {
     "name": "stdout",
     "output_type": "stream",
     "text": [
      "the mean for the ride count for urban trips is 24.62\n",
      "the median for the ride count for urban trips is 24.0\n",
      "the mode for the ride count for urban trip is ModeResult(mode=array([22], dtype=int64), count=array([7]))\n"
     ]
    }
   ],
   "source": [
    "#calculate the measures of central tendency for the ride count for the urban cities\n",
    "mean_urban_ride_count = np.mean(urban_ride_count)\n",
    "print(f'the mean for the ride count for urban trips is {mean_urban_ride_count:.2f}')\n",
    "\n",
    "median_urban_ride_count = np.median(urban_ride_count)\n",
    "print(f'the median for the ride count for urban trips is {median_urban_ride_count}')\n",
    "\n",
    "mode_urban_ride_count = sts.mode(urban_ride_count)\n",
    "print(f'the mode for the ride count for urban trip is {mode_urban_ride_count}')\n"
   ]
  },
  {
   "cell_type": "markdown",
   "metadata": {},
   "source": [
    "###### summary statistics for fare by city type"
   ]
  },
  {
   "cell_type": "code",
   "execution_count": 26,
   "metadata": {},
   "outputs": [],
   "source": [
    "#get the fares for the urban cities\n",
    "urban_fares = urban_cities_df['fare']\n",
    "\n",
    "#get the fares for suburban cities\n",
    "suburban_fares = suburban_cities_df['fare']\n",
    "\n",
    "\n",
    "#get the fares for rural cities\n",
    "rural_fares = rural_cities_df['fare']"
   ]
  },
  {
   "cell_type": "code",
   "execution_count": 27,
   "metadata": {},
   "outputs": [
    {
     "name": "stdout",
     "output_type": "stream",
     "text": [
      "the mean for the urban fares for urban trips is 24.53\n",
      "the median for the urban fares for urban trips is 24.64\n",
      "the mode for the urban fares for urban trip is ModeResult(mode=array([22.86]), count=array([5]))\n"
     ]
    }
   ],
   "source": [
    "#calculate the measures of central tendency for the average fare for the urban cities\n",
    "mean_urban_fares = np.mean(urban_fares)\n",
    "print(f'the mean for the urban fares for urban trips is {mean_urban_fares:.2f}')\n",
    "\n",
    "median_urban_fares = np.median(urban_fares)\n",
    "print(f'the median for the urban fares for urban trips is {median_urban_fares}')\n",
    "\n",
    "mode_urban_fares = sts.mode(urban_fares)\n",
    "print(f'the mode for the urban fares for urban trip is {mode_urban_fares}')\n"
   ]
  },
  {
   "cell_type": "markdown",
   "metadata": {},
   "source": [
    "###### summary statistics for the number of drivers by city type"
   ]
  },
  {
   "cell_type": "code",
   "execution_count": 28,
   "metadata": {},
   "outputs": [],
   "source": [
    "#get the driver count for the urban cities\n",
    "urban_drivers = urban_cities_df['driver_count']\n",
    "\n",
    "#get the driver count for the suburban cities\n",
    "suburban_drivers = suburban_cities_df['driver_count']\n",
    "\n",
    "#get the driver count for the urban cities\n",
    "rural_drivers = rural_cities_df['driver_count']"
   ]
  },
  {
   "cell_type": "code",
   "execution_count": 29,
   "metadata": {},
   "outputs": [
    {
     "name": "stdout",
     "output_type": "stream",
     "text": [
      "the mean for urban drivers is 36.68\n",
      "the median for urban drivers is 37.0\n",
      "the mode for urban drivers is ModeResult(mode=array([39], dtype=int64), count=array([86]))\n"
     ]
    }
   ],
   "source": [
    "#calculate the measures of central tendency for the number of drivers by city type\n",
    "mean_urban_drivers = np.mean(urban_drivers)\n",
    "print(f'the mean for urban drivers is {mean_urban_drivers:.2f}')\n",
    "\n",
    "median_urban_drivers = np.median(urban_drivers)\n",
    "print(f'the median for urban drivers is {median_urban_drivers}')\n",
    "\n",
    "mode_urban_drivers = sts.mode(urban_drivers)\n",
    "print(f'the mode for urban drivers is {mode_urban_drivers}')"
   ]
  },
  {
   "cell_type": "markdown",
   "metadata": {},
   "source": [
    "###### box and whisker plot for the ride count"
   ]
  },
  {
   "cell_type": "code",
   "execution_count": 30,
   "metadata": {},
   "outputs": [
    {
     "data": {
      "text/plain": [
       "<function matplotlib.pyplot.show(close=None, block=None)>"
      ]
     },
     "execution_count": 30,
     "metadata": {},
     "output_type": "execute_result"
    },
    {
     "data": {
      "image/png": "[encoded data removed]",
      "text/plain": [
       "<Figure size 720x432 with 1 Axes>"
      ]
     },
     "metadata": {
      "needs_background": "light"
     },
     "output_type": "display_data"
    }
   ],
   "source": [
    "#create a box and whisker plot for the urban cities ride count\n",
    "x_labels = ['Urban', 'Suburban', 'Rural']\n",
    "ride_count_data = [urban_ride_count, suburban_ride_count, rural_ride_count]\n",
    "\n",
    "fig, ax = plt.subplots(figsize = (10, 6))\n",
    "\n",
    "\n",
    "#add the title, y_axis label and grid\n",
    "ax.set_title('Ride Count Data (2019)', fontsize =20)\n",
    "ax.set_ylabel('Number of Rides', fontsize = 14)\n",
    "ax.set_xlabel('City Types', fontsize = 14)\n",
    "ax.boxplot(ride_count_data, labels = x_labels)\n",
    "ax.set_yticks(np.arange(0, 45, step = 3.0))\n",
    "ax.grid()\n",
    "\n",
    "#save the figure\n",
    "plt.savefig('Analysis/Fig2.png')\n",
    "plt.show"
   ]
  },
  {
   "cell_type": "code",
   "execution_count": 31,
   "metadata": {},
   "outputs": [
    {
     "name": "stdout",
     "output_type": "stream",
     "text": [
      "West Angela has the highest rider count\n"
     ]
    }
   ],
   "source": [
    "#filtering for the true values for the outlier\n",
    "urban_city_outlier = urban_ride_count[ urban_ride_count == 39].index[0]\n",
    "print(f'{urban_city_outlier} has the highest rider count')"
   ]
  },
  {
   "cell_type": "markdown",
   "metadata": {},
   "source": [
    "###### box and whisker plot for the ride fare data"
   ]
  },
  {
   "cell_type": "code",
   "execution_count": 32,
   "metadata": {},
   "outputs": [
    {
     "data": {
      "image/png": "[encoded data removed]",
      "text/plain": [
       "<Figure size 720x432 with 1 Axes>"
      ]
     },
     "metadata": {
      "needs_background": "light"
     },
     "output_type": "display_data"
    }
   ],
   "source": [
    "#create a box and whisker plot for the city type fare data\n",
    "x_labels =['Urban', 'Suburban', 'Rural']\n",
    "fare_data = [urban_fares, suburban_fares, rural_fares]\n",
    "\n",
    "\n",
    "fig, ax = plt.subplots(figsize = (10, 6))\n",
    "ax.boxplot(fare_data, labels = x_labels)\n",
    "\n",
    "#add the title, y_axis, and grid\n",
    "ax.set_title('Ride Fare Data (2019)', fontsize = 20)\n",
    "ax.set_ylabel('Fare($USD)', fontsize = 14)\n",
    "ax.set_xlabel('City Types', fontsize = 14)\n",
    "ax.set_yticks(np.arange(0,51, step = 5.0))\n",
    "ax.grid()\n",
    "\n",
    "\n",
    "#save figure\n",
    "plt.savefig('Analysis/Fig3.png')\n",
    "plt.show()"
   ]
  },
  {
   "cell_type": "markdown",
   "metadata": {},
   "source": [
    "###### box and whisker plots for driver count data"
   ]
  },
  {
   "cell_type": "code",
   "execution_count": 37,
   "metadata": {},
   "outputs": [
    {
     "data": {
      "image/png": "[encoded data removed]",
      "text/plain": [
       "<Figure size 720x432 with 1 Axes>"
      ]
     },
     "metadata": {
      "needs_background": "light"
     },
     "output_type": "display_data"
    }
   ],
   "source": [
    "#create a box and whisker plot for the city type driver count data\n",
    "x_labels = ['Urban', 'Suburban', 'Rural']\n",
    "driver_data = [urban_drivers, suburban_drivers, rural_drivers]\n",
    "\n",
    "fig, ax = plt.subplots(figsize = (10, 6))\n",
    "ax.boxplot(driver_data, labels = x_labels)\n",
    "\n",
    "#add the title, y_axis, and grid\n",
    "ax.set_title('Driver Count Data (2019)', fontsize = 20)\n",
    "ax.set_ylabel('Number of Drivers', fontsize = 14)\n",
    "ax.set_xlabel('City Types', fontsize = 14)\n",
    "ax.set_yticks(np.arange(0, 90, step = 5.0))\n",
    "ax.grid()\n",
    "\n",
    "#save figure\n",
    "plt.savefig('Analysis/Fig4.png')\n",
    "plt.show()\n",
    "\n",
    "#print summary\n",
    "#print('Summary Statistics')\n",
    "#print(f'{urban_drivers.describe()} {suburban_drivers.describe()} {rural_drivers.describe()}')\n"
   ]
  }
 ],
 "metadata": {
  "kernelspec": {
   "display_name": "PythonData",
   "language": "python",
   "name": "pythondata"
  },
  "language_info": {
   "codemirror_mode": {
    "name": "ipython",
    "version": 3
   },
   "file_extension": ".py",
   "mimetype": "text/x-python",
   "name": "python",
   "nbconvert_exporter": "python",
   "pygments_lexer": "ipython3",
   "version": "3.7.9"
  }
 },
 "nbformat": 4,
 "nbformat_minor": 4
}
